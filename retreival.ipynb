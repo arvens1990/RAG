{
 "cells": [
  {
   "cell_type": "markdown",
   "metadata": {},
   "source": [
    "# Retrieval Documents by Query\n",
    "This notebook demonstrates how, based on some user query, to retrieve relevant documents from a corpus of text data."
   ]
  },
  {
   "cell_type": "markdown",
   "metadata": {},
   "source": [
    "## Data Preprocessing"
   ]
  },
  {
   "cell_type": "markdown",
   "metadata": {},
   "source": [
    "### Import Text File"
   ]
  },
  {
   "cell_type": "code",
   "execution_count": 58,
   "metadata": {},
   "outputs": [],
   "source": []
  },
  {
   "cell_type": "code",
   "execution_count": 127,
   "metadata": {},
   "outputs": [],
   "source": [
    "import json\n",
    "\n",
    "def txt_to_json(path, dump = None, debug = False):\n",
    "    data = {}\n",
    "    file = open(path, 'r')\n",
    "    for i, line in enumerate(file.readlines()):\n",
    "        if debug: print(i)\n",
    "        line = line.strip()\n",
    "        first_space = line.find(\" \")\n",
    "        if len(line.split()) == 1 and line[-1:] not in [\".\", \"?\", \":\", \";\", \",\", \"!\", \")\"] and line != \"Selah\" or len(line.split()) == 2 and line[:first_space].isnumeric():\n",
    "            current_book = line[:]\n",
    "            data[current_book] = {}\n",
    "        elif len(line) == 0:\n",
    "            continue\n",
    "        elif (line.startswith(\"Chapter\") or line.startswith(\"Psalm \")) and line[-1:].isnumeric():\n",
    "            current_chapter = int(line[first_space + 1:])\n",
    "            data[current_book][current_chapter] = {}\n",
    "        elif line[:1].isnumeric():\n",
    "            current_verse = int(line[:first_space])\n",
    "            data[current_book][current_chapter][current_verse] = line[first_space + 1:]\n",
    "        else:\n",
    "            data[current_book][current_chapter][current_verse] += f' {line[:] }'\n",
    "    \n",
    "    if dump:\n",
    "        json_data = json.dumps(data, indent=2)\n",
    "        with open(dump, 'w') as f:\n",
    "            f.write(json_data)\n",
    "    else:\n",
    "        return data\n",
    "\n",
    "# txt_to_json('sample_text.txt', \"sample_data.json\")"
   ]
  },
  {
   "cell_type": "code",
   "execution_count": 128,
   "metadata": {},
   "outputs": [],
   "source": [
    "# test on all data\n",
    "txt_to_json('tanakh.txt', 'tanakh.json')"
   ]
  },
  {
   "cell_type": "markdown",
   "metadata": {},
   "source": [
    "### Turn json Into Chunks of N Words"
   ]
  },
  {
   "cell_type": "code",
   "execution_count": null,
   "metadata": {},
   "outputs": [],
   "source": [
    "tanakh_json = json.load(fp=open(\"tanakh.json\", \"r\"))"
   ]
  },
  {
   "cell_type": "code",
   "execution_count": 140,
   "metadata": {},
   "outputs": [],
   "source": [
    "n = 500\n",
    "chunks = []\n",
    "chunk = \"\"\n",
    "for book, book_content in tanakh_json.items():\n",
    "    for chapter, chapter_content in book_content.items():\n",
    "        for verse, verse_content in chapter_content.items():\n",
    "            if len(verse_content.split()) > 500:\n",
    "                print(book, chapter, verse)\n",
    "                break\n",
    "            if len((chunk + verse_content).split()) > 500:\n",
    "                chunks.append(chunk)\n",
    "                chunk = verse_content\n",
    "            else:\n",
    "                chunk += f\" {verse_content}\""
   ]
  },
  {
   "cell_type": "code",
   "execution_count": 145,
   "metadata": {},
   "outputs": [],
   "source": [
    "# save to file\n",
    "with open(\"chunks.txt\", \"w\") as f:\n",
    "    for chunk in chunks:\n",
    "        f.write(f\"\\n{chunk}\\n\")"
   ]
  },
  {
   "cell_type": "markdown",
   "metadata": {},
   "source": [
    "## Turn Into a Chroma DB - Vector Store"
   ]
  },
  {
   "cell_type": "markdown",
   "metadata": {},
   "source": [
    "### Import `langchain`"
   ]
  },
  {
   "cell_type": "code",
   "execution_count": 1,
   "metadata": {},
   "outputs": [],
   "source": [
    "from langchain.embeddings import HuggingFaceEmbeddings\n",
    "from langchain.text_splitter import CharacterTextSplitter\n",
    "from langchain.vectorstores import Chroma"
   ]
  },
  {
   "cell_type": "code",
   "execution_count": null,
   "metadata": {},
   "outputs": [],
   "source": []
  },
  {
   "cell_type": "code",
   "execution_count": null,
   "metadata": {},
   "outputs": [],
   "source": []
  },
  {
   "cell_type": "code",
   "execution_count": null,
   "metadata": {},
   "outputs": [],
   "source": []
  },
  {
   "cell_type": "code",
   "execution_count": null,
   "metadata": {},
   "outputs": [],
   "source": [
    "\n",
    "\n",
    "full_text = open(\"state_of_the_union.txt\", \"r\").read()\n",
    "text_splitter = CharacterTextSplitter(chunk_size=1000, chunk_overlap=100)\n",
    "texts = text_splitter.split_text(full_text)\n",
    "\n",
    "embeddings = HuggingFaceEmbeddings()\n",
    "db = Chroma.from_texts(texts, embeddings)\n",
    "retriever = db.as_retriever()"
   ]
  }
 ],
 "metadata": {
  "kernelspec": {
   "display_name": "base",
   "language": "python",
   "name": "python3"
  },
  "language_info": {
   "codemirror_mode": {
    "name": "ipython",
    "version": 3
   },
   "file_extension": ".py",
   "mimetype": "text/x-python",
   "name": "python",
   "nbconvert_exporter": "python",
   "pygments_lexer": "ipython3",
   "version": "3.12.0"
  }
 },
 "nbformat": 4,
 "nbformat_minor": 2
}
